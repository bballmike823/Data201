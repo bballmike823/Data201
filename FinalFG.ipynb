{
 "cells": [
  {
   "cell_type": "markdown",
   "metadata": {
    "colab_type": "text",
    "id": "mCuYPm-voPpj"
   },
   "source": [
    "# Setup"
   ]
  },
  {
   "cell_type": "markdown",
   "metadata": {
    "colab_type": "text",
    "id": "pFzrHf4TpLFh"
   },
   "source": [
    "## Libraries"
   ]
  },
  {
   "cell_type": "code",
   "execution_count": 1,
   "metadata": {
    "colab": {
     "base_uri": "https://localhost:8080/",
     "height": 335
    },
    "colab_type": "code",
    "id": "L6-ygCvKUiy9",
    "outputId": "728d7eb5-fa6a-440c-85de-863933848609"
   },
   "outputs": [
    {
     "name": "stdout",
     "output_type": "stream",
     "text": [
      "Mon May 13 23:33:58 2019       \n",
      "+-----------------------------------------------------------------------------+\n",
      "| NVIDIA-SMI 418.56       Driver Version: 410.79       CUDA Version: 10.0     |\n",
      "|-------------------------------+----------------------+----------------------+\n",
      "| GPU  Name        Persistence-M| Bus-Id        Disp.A | Volatile Uncorr. ECC |\n",
      "| Fan  Temp  Perf  Pwr:Usage/Cap|         Memory-Usage | GPU-Util  Compute M. |\n",
      "|===============================+======================+======================|\n",
      "|   0  Tesla T4            Off  | 00000000:00:04.0 Off |                    0 |\n",
      "| N/A   54C    P8    16W /  70W |      0MiB / 15079MiB |      0%      Default |\n",
      "+-------------------------------+----------------------+----------------------+\n",
      "                                                                               \n",
      "+-----------------------------------------------------------------------------+\n",
      "| Processes:                                                       GPU Memory |\n",
      "|  GPU       PID   Type   Process name                             Usage      |\n",
      "|=============================================================================|\n",
      "|  No running processes found                                                 |\n",
      "+-----------------------------------------------------------------------------+\n"
     ]
    }
   ],
   "source": [
    "!nvidia-smi"
   ]
  },
  {
   "cell_type": "code",
   "execution_count": 2,
   "metadata": {
    "colab": {
     "base_uri": "https://localhost:8080/",
     "height": 392
    },
    "colab_type": "code",
    "id": "rD4m_P6louQg",
    "outputId": "85b2b3a0-1e64-47bf-95ec-b97c72248125"
   },
   "outputs": [
    {
     "name": "stdout",
     "output_type": "stream",
     "text": [
      "Requirement already satisfied: tensorflow-gpu==2.0.0-alpha in /usr/local/lib/python3.6/dist-packages (2.0.0a0)\n",
      "Requirement already satisfied: tb-nightly<1.14.0a20190302,>=1.14.0a20190301 in /usr/local/lib/python3.6/dist-packages (from tensorflow-gpu==2.0.0-alpha) (1.14.0a20190301)\n",
      "Requirement already satisfied: google-pasta>=0.1.2 in /usr/local/lib/python3.6/dist-packages (from tensorflow-gpu==2.0.0-alpha) (0.1.6)\n",
      "Requirement already satisfied: tf-estimator-nightly<1.14.0.dev2019030116,>=1.14.0.dev2019030115 in /usr/local/lib/python3.6/dist-packages (from tensorflow-gpu==2.0.0-alpha) (1.14.0.dev2019030115)\n",
      "Requirement already satisfied: keras-preprocessing>=1.0.5 in /usr/local/lib/python3.6/dist-packages (from tensorflow-gpu==2.0.0-alpha) (1.0.9)\n",
      "Requirement already satisfied: gast>=0.2.0 in /usr/local/lib/python3.6/dist-packages (from tensorflow-gpu==2.0.0-alpha) (0.2.2)\n",
      "Requirement already satisfied: six>=1.10.0 in /usr/local/lib/python3.6/dist-packages (from tensorflow-gpu==2.0.0-alpha) (1.12.0)\n",
      "Requirement already satisfied: keras-applications>=1.0.6 in /usr/local/lib/python3.6/dist-packages (from tensorflow-gpu==2.0.0-alpha) (1.0.7)\n",
      "Requirement already satisfied: protobuf>=3.6.1 in /usr/local/lib/python3.6/dist-packages (from tensorflow-gpu==2.0.0-alpha) (3.7.1)\n",
      "Requirement already satisfied: absl-py>=0.7.0 in /usr/local/lib/python3.6/dist-packages (from tensorflow-gpu==2.0.0-alpha) (0.7.1)\n",
      "Requirement already satisfied: grpcio>=1.8.6 in /usr/local/lib/python3.6/dist-packages (from tensorflow-gpu==2.0.0-alpha) (1.15.0)\n",
      "Requirement already satisfied: termcolor>=1.1.0 in /usr/local/lib/python3.6/dist-packages (from tensorflow-gpu==2.0.0-alpha) (1.1.0)\n",
      "Requirement already satisfied: wheel>=0.26 in /usr/local/lib/python3.6/dist-packages (from tensorflow-gpu==2.0.0-alpha) (0.33.1)\n",
      "Requirement already satisfied: numpy<2.0,>=1.14.5 in /usr/local/lib/python3.6/dist-packages (from tensorflow-gpu==2.0.0-alpha) (1.16.3)\n",
      "Requirement already satisfied: astor>=0.6.0 in /usr/local/lib/python3.6/dist-packages (from tensorflow-gpu==2.0.0-alpha) (0.7.1)\n",
      "Requirement already satisfied: markdown>=2.6.8 in /usr/local/lib/python3.6/dist-packages (from tb-nightly<1.14.0a20190302,>=1.14.0a20190301->tensorflow-gpu==2.0.0-alpha) (3.1)\n",
      "Requirement already satisfied: werkzeug>=0.11.15 in /usr/local/lib/python3.6/dist-packages (from tb-nightly<1.14.0a20190302,>=1.14.0a20190301->tensorflow-gpu==2.0.0-alpha) (0.15.2)\n",
      "Requirement already satisfied: h5py in /usr/local/lib/python3.6/dist-packages (from keras-applications>=1.0.6->tensorflow-gpu==2.0.0-alpha) (2.8.0)\n",
      "Requirement already satisfied: setuptools in /usr/local/lib/python3.6/dist-packages (from protobuf>=3.6.1->tensorflow-gpu==2.0.0-alpha) (41.0.1)\n"
     ]
    }
   ],
   "source": [
    "pip install tensorflow-gpu==2.0.0-alpha"
   ]
  },
  {
   "cell_type": "code",
   "execution_count": 3,
   "metadata": {
    "colab": {
     "base_uri": "https://localhost:8080/",
     "height": 111
    },
    "colab_type": "code",
    "id": "Sq-JAS3QotTj",
    "outputId": "38baab28-8efb-4177-8146-34731d1e20c7"
   },
   "outputs": [
    {
     "name": "stdout",
     "output_type": "stream",
     "text": [
      "Requirement already satisfied: tfp-nightly in /usr/local/lib/python3.6/dist-packages (0.7.0.dev20190513)\n",
      "Requirement already satisfied: numpy>=1.13.3 in /usr/local/lib/python3.6/dist-packages (from tfp-nightly) (1.16.3)\n",
      "Requirement already satisfied: decorator in /usr/local/lib/python3.6/dist-packages (from tfp-nightly) (4.4.0)\n",
      "Requirement already satisfied: cloudpickle>=0.6.1 in /usr/local/lib/python3.6/dist-packages (from tfp-nightly) (0.6.1)\n",
      "Requirement already satisfied: six>=1.10.0 in /usr/local/lib/python3.6/dist-packages (from tfp-nightly) (1.12.0)\n"
     ]
    }
   ],
   "source": [
    "pip install tfp-nightly"
   ]
  },
  {
   "cell_type": "code",
   "execution_count": 4,
   "metadata": {
    "colab": {
     "base_uri": "https://localhost:8080/",
     "height": 92
    },
    "colab_type": "code",
    "id": "OWFl5dYvo1CC",
    "outputId": "fc8a4c35-9437-4007-a70c-c575db725487"
   },
   "outputs": [
    {
     "name": "stdout",
     "output_type": "stream",
     "text": [
      "Requirement already satisfied: feather-format in /usr/local/lib/python3.6/dist-packages (0.4.0)\n",
      "Requirement already satisfied: pyarrow>=0.4.0 in /usr/local/lib/python3.6/dist-packages (from feather-format) (0.13.0)\n",
      "Requirement already satisfied: six>=1.0.0 in /usr/local/lib/python3.6/dist-packages (from pyarrow>=0.4.0->feather-format) (1.12.0)\n",
      "Requirement already satisfied: numpy>=1.14 in /usr/local/lib/python3.6/dist-packages (from pyarrow>=0.4.0->feather-format) (1.16.3)\n"
     ]
    }
   ],
   "source": [
    "pip install feather-format"
   ]
  },
  {
   "cell_type": "code",
   "execution_count": 5,
   "metadata": {
    "colab": {
     "base_uri": "https://localhost:8080/",
     "height": 224
    },
    "colab_type": "code",
    "id": "vMg_E7s4a8Kk",
    "outputId": "47ec0543-2746-4daf-b981-30712c52dc83"
   },
   "outputs": [
    {
     "name": "stdout",
     "output_type": "stream",
     "text": [
      "Requirement already satisfied: PyDrive in /usr/local/lib/python3.6/dist-packages (1.3.1)\n",
      "Requirement already satisfied: google-api-python-client>=1.2 in /usr/local/lib/python3.6/dist-packages (from PyDrive) (1.6.7)\n",
      "Requirement already satisfied: oauth2client>=4.0.0 in /usr/local/lib/python3.6/dist-packages (from PyDrive) (4.1.3)\n",
      "Requirement already satisfied: PyYAML>=3.0 in /usr/local/lib/python3.6/dist-packages (from PyDrive) (3.13)\n",
      "Requirement already satisfied: httplib2<1dev,>=0.9.2 in /usr/local/lib/python3.6/dist-packages (from google-api-python-client>=1.2->PyDrive) (0.11.3)\n",
      "Requirement already satisfied: six<2dev,>=1.6.1 in /usr/local/lib/python3.6/dist-packages (from google-api-python-client>=1.2->PyDrive) (1.12.0)\n",
      "Requirement already satisfied: uritemplate<4dev,>=3.0.0 in /usr/local/lib/python3.6/dist-packages (from google-api-python-client>=1.2->PyDrive) (3.0.0)\n",
      "Requirement already satisfied: rsa>=3.1.4 in /usr/local/lib/python3.6/dist-packages (from oauth2client>=4.0.0->PyDrive) (4.0)\n",
      "Requirement already satisfied: pyasn1>=0.1.7 in /usr/local/lib/python3.6/dist-packages (from oauth2client>=4.0.0->PyDrive) (0.4.5)\n",
      "Requirement already satisfied: pyasn1-modules>=0.0.5 in /usr/local/lib/python3.6/dist-packages (from oauth2client>=4.0.0->PyDrive) (0.2.5)\n"
     ]
    }
   ],
   "source": [
    "pip install PyDrive"
   ]
  },
  {
   "cell_type": "code",
   "execution_count": 6,
   "metadata": {
    "colab": {
     "base_uri": "https://localhost:8080/",
     "height": 54
    },
    "colab_type": "code",
    "id": "W5z6RX1NGPNg",
    "outputId": "c096fe0a-6173-498c-aa10-fbf11924f8ed"
   },
   "outputs": [
    {
     "name": "stdout",
     "output_type": "stream",
     "text": [
      "tensorflow version: 2.0.0-alpha0\n",
      "tensorflow keras version: 2.2.4-tf\n"
     ]
    }
   ],
   "source": [
    "import matplotlib.pyplot as plt\n",
    "import numpy as np\n",
    "import seaborn as sns\n",
    "\n",
    "import tensorflow as tf\n",
    "from tensorflow.python import tf2\n",
    "if not tf2.enabled():\n",
    "  import tensorflow.compat.v2 as tf\n",
    "  tf.enable_v2_behavior()\n",
    "  assert tf2.enabled()\n",
    "\n",
    "from tensorflow.keras import layers\n",
    "from tensorflow.keras.metrics import Accuracy, CategoricalAccuracy, BinaryAccuracy\n",
    "\n",
    "print(\"tensorflow version: \" + tf.version.VERSION)\n",
    "print(\"tensorflow keras version: \" + tf.keras.__version__)\n",
    "\n",
    "sns.reset_defaults()\n",
    "sns.set_context(context='talk',font_scale=0.7)\n",
    "plt.rcParams['image.cmap'] = 'viridis'\n",
    "\n",
    "%matplotlib inline\n",
    "\n",
    "import pandas as pd\n",
    "import timeit\n",
    "import time\n",
    "import sklearn"
   ]
  },
  {
   "cell_type": "markdown",
   "metadata": {
    "colab_type": "text",
    "id": "odjEXovvpSul"
   },
   "source": [
    "## Functions"
   ]
  },
  {
   "cell_type": "code",
   "execution_count": 0,
   "metadata": {
    "colab": {},
    "colab_type": "code",
    "id": "VjxoCWuAn2gz"
   },
   "outputs": [],
   "source": [
    "time_log = []\n",
    "def tic():\n",
    "    time_log.append(time.perf_counter())\n",
    "\n",
    "def toc(msg = \"\"):\n",
    "    time_log.append(time.perf_counter())\n",
    "    if (len(msg) != 0): msg += \": \"\n",
    "    time_diff = time_log.pop() - time_log.pop()\n",
    "    unit = \"seconds\"\n",
    "    if time_diff < .01:\n",
    "      time_diff *= 1000\n",
    "      unit = \"milliseconds\"\n",
    "    print(msg + str(\"%.3f\" % time_diff) + \" \" + unit)\n",
    "    \n",
    "def score_report(message, score):\n",
    "    print(message + \": \" + str('%.5f' % score))"
   ]
  },
  {
   "cell_type": "markdown",
   "metadata": {
    "colab_type": "text",
    "id": "WrROs68hpaKP"
   },
   "source": [
    "# Data Import"
   ]
  },
  {
   "cell_type": "code",
   "execution_count": 0,
   "metadata": {
    "colab": {},
    "colab_type": "code",
    "id": "0_itZC8_IbHX"
   },
   "outputs": [],
   "source": [
    "df = pd.read_csv(\"http://users.stat.ufl.edu/~winner/data/nfl2008_fga.csv\")"
   ]
  },
  {
   "cell_type": "markdown",
   "metadata": {
    "colab_type": "text",
    "id": "StIAplRYpfUh"
   },
   "source": [
    "# Data Cleaning and Wrangling"
   ]
  },
  {
   "cell_type": "code",
   "execution_count": 0,
   "metadata": {
    "colab": {},
    "colab_type": "code",
    "id": "tfdvRfLqcOh7"
   },
   "outputs": [],
   "source": [
    "df['timeremhalf'] = df.timerem %(60 * 30)\n",
    "df['overtime'] = df.qtr == 5\n",
    "df['twominutewarning'] = ((df.qtr == 4)|(df.qtr == 2))&(df.timeremhalf <= 120)\n",
    "df['fourth_qtr'] = df.qtr == 4"
   ]
  },
  {
   "cell_type": "code",
   "execution_count": 0,
   "metadata": {
    "colab": {},
    "colab_type": "code",
    "id": "acvF4ZypdUSf"
   },
   "outputs": [],
   "source": [
    "df = df.drop(columns='season')\n",
    "df.GameDate = df.GameDate.astype(int)\n",
    "df['year'] = df.GameDate // 10000\n",
    "df['month'] = (df.GameDate % 10000) // 100\n",
    "df['day'] = df.GameDate % 100\n",
    "df.GameDate = pd.to_datetime(df[['month','day','year']])\n",
    "df['close_score'] = df.kickdiff.abs() <= 8\n",
    "df['score_can_change'] = (df.kickdiff >= -3) & (df.kickdiff <= 0)"
   ]
  },
  {
   "cell_type": "code",
   "execution_count": 0,
   "metadata": {
    "colab": {},
    "colab_type": "code",
    "id": "NXyT19THdN9a"
   },
   "outputs": [],
   "source": [
    "df.GOOD -= df.Blocked\n",
    "df['result'] = df.Blocked * 2 + df.Missed\n",
    "df.result = df.result.astype(int)"
   ]
  },
  {
   "cell_type": "code",
   "execution_count": 12,
   "metadata": {
    "colab": {
     "base_uri": "https://localhost:8080/",
     "height": 412
    },
    "colab_type": "code",
    "id": "L2aPovCteK1E",
    "outputId": "97563ac9-f0cf-415f-f912-bd65d3b69256"
   },
   "outputs": [
    {
     "name": "stderr",
     "output_type": "stream",
     "text": [
      "/usr/local/lib/python3.6/dist-packages/pandas/core/generic.py:5096: SettingWithCopyWarning: \n",
      "A value is trying to be set on a copy of a slice from a DataFrame.\n",
      "Try using .loc[row_indexer,col_indexer] = value instead\n",
      "\n",
      "See the caveats in the documentation: http://pandas.pydata.org/pandas-docs/stable/indexing.html#indexing-view-versus-copy\n",
      "  self[name] = value\n"
     ]
    },
    {
     "data": {
      "text/html": [
       "<div>\n",
       "<style scoped>\n",
       "    .dataframe tbody tr th:only-of-type {\n",
       "        vertical-align: middle;\n",
       "    }\n",
       "\n",
       "    .dataframe tbody tr th {\n",
       "        vertical-align: top;\n",
       "    }\n",
       "\n",
       "    .dataframe thead th {\n",
       "        text-align: right;\n",
       "    }\n",
       "</style>\n",
       "<table border=\"1\" class=\"dataframe\">\n",
       "  <thead>\n",
       "    <tr style=\"text-align: right;\">\n",
       "      <th></th>\n",
       "      <th>distance</th>\n",
       "      <th>homekick</th>\n",
       "      <th>close_score</th>\n",
       "      <th>score_can_change</th>\n",
       "      <th>fourth_qtr</th>\n",
       "      <th>overtime</th>\n",
       "      <th>twominutewarning</th>\n",
       "    </tr>\n",
       "  </thead>\n",
       "  <tbody>\n",
       "    <tr>\n",
       "      <th>count</th>\n",
       "      <td>1039.000000</td>\n",
       "      <td>1039.000000</td>\n",
       "      <td>1039.000000</td>\n",
       "      <td>1039.000000</td>\n",
       "      <td>1039.000000</td>\n",
       "      <td>1039.000000</td>\n",
       "      <td>1039.000000</td>\n",
       "    </tr>\n",
       "    <tr>\n",
       "      <th>mean</th>\n",
       "      <td>36.666025</td>\n",
       "      <td>0.494706</td>\n",
       "      <td>0.707411</td>\n",
       "      <td>0.335900</td>\n",
       "      <td>0.245428</td>\n",
       "      <td>0.012512</td>\n",
       "      <td>0.211742</td>\n",
       "    </tr>\n",
       "    <tr>\n",
       "      <th>std</th>\n",
       "      <td>9.847836</td>\n",
       "      <td>0.500213</td>\n",
       "      <td>0.455170</td>\n",
       "      <td>0.472532</td>\n",
       "      <td>0.430548</td>\n",
       "      <td>0.111209</td>\n",
       "      <td>0.408740</td>\n",
       "    </tr>\n",
       "    <tr>\n",
       "      <th>min</th>\n",
       "      <td>18.000000</td>\n",
       "      <td>0.000000</td>\n",
       "      <td>0.000000</td>\n",
       "      <td>0.000000</td>\n",
       "      <td>0.000000</td>\n",
       "      <td>0.000000</td>\n",
       "      <td>0.000000</td>\n",
       "    </tr>\n",
       "    <tr>\n",
       "      <th>25%</th>\n",
       "      <td>28.000000</td>\n",
       "      <td>0.000000</td>\n",
       "      <td>0.000000</td>\n",
       "      <td>0.000000</td>\n",
       "      <td>0.000000</td>\n",
       "      <td>0.000000</td>\n",
       "      <td>0.000000</td>\n",
       "    </tr>\n",
       "    <tr>\n",
       "      <th>50%</th>\n",
       "      <td>37.000000</td>\n",
       "      <td>0.000000</td>\n",
       "      <td>1.000000</td>\n",
       "      <td>0.000000</td>\n",
       "      <td>0.000000</td>\n",
       "      <td>0.000000</td>\n",
       "      <td>0.000000</td>\n",
       "    </tr>\n",
       "    <tr>\n",
       "      <th>75%</th>\n",
       "      <td>44.000000</td>\n",
       "      <td>1.000000</td>\n",
       "      <td>1.000000</td>\n",
       "      <td>1.000000</td>\n",
       "      <td>0.000000</td>\n",
       "      <td>0.000000</td>\n",
       "      <td>0.000000</td>\n",
       "    </tr>\n",
       "    <tr>\n",
       "      <th>max</th>\n",
       "      <td>76.000000</td>\n",
       "      <td>1.000000</td>\n",
       "      <td>1.000000</td>\n",
       "      <td>1.000000</td>\n",
       "      <td>1.000000</td>\n",
       "      <td>1.000000</td>\n",
       "      <td>1.000000</td>\n",
       "    </tr>\n",
       "  </tbody>\n",
       "</table>\n",
       "</div>"
      ],
      "text/plain": [
       "          distance     homekick  close_score  score_can_change   fourth_qtr  \\\n",
       "count  1039.000000  1039.000000  1039.000000       1039.000000  1039.000000   \n",
       "mean     36.666025     0.494706     0.707411          0.335900     0.245428   \n",
       "std       9.847836     0.500213     0.455170          0.472532     0.430548   \n",
       "min      18.000000     0.000000     0.000000          0.000000     0.000000   \n",
       "25%      28.000000     0.000000     0.000000          0.000000     0.000000   \n",
       "50%      37.000000     0.000000     1.000000          0.000000     0.000000   \n",
       "75%      44.000000     1.000000     1.000000          1.000000     0.000000   \n",
       "max      76.000000     1.000000     1.000000          1.000000     1.000000   \n",
       "\n",
       "          overtime  twominutewarning  \n",
       "count  1039.000000       1039.000000  \n",
       "mean      0.012512          0.211742  \n",
       "std       0.111209          0.408740  \n",
       "min       0.000000          0.000000  \n",
       "25%       0.000000          0.000000  \n",
       "50%       0.000000          0.000000  \n",
       "75%       0.000000          0.000000  \n",
       "max       1.000000          1.000000  "
      ]
     },
     "execution_count": 12,
     "metadata": {
      "tags": []
     },
     "output_type": "execute_result"
    }
   ],
   "source": [
    "X = df[['distance','homekick','close_score','score_can_change','fourth_qtr','overtime','twominutewarning']]\n",
    "X.close_score = X.close_score + 0.\n",
    "X.score_can_change = X.score_can_change + 0.\n",
    "X.fourth_qtr = X.fourth_qtr + 0.\n",
    "X.overtime = X.overtime + 0.\n",
    "X.twominutewarning = X.twominutewarning + 0.\n",
    "\n",
    "X.describe()"
   ]
  },
  {
   "cell_type": "code",
   "execution_count": 13,
   "metadata": {
    "colab": {
     "base_uri": "https://localhost:8080/",
     "height": 300
    },
    "colab_type": "code",
    "id": "rYR--62IeOa9",
    "outputId": "50ad3b3b-54bd-4f72-a7e4-faef4e3f8c77"
   },
   "outputs": [
    {
     "data": {
      "text/html": [
       "<div>\n",
       "<style scoped>\n",
       "    .dataframe tbody tr th:only-of-type {\n",
       "        vertical-align: middle;\n",
       "    }\n",
       "\n",
       "    .dataframe tbody tr th {\n",
       "        vertical-align: top;\n",
       "    }\n",
       "\n",
       "    .dataframe thead th {\n",
       "        text-align: right;\n",
       "    }\n",
       "</style>\n",
       "<table border=\"1\" class=\"dataframe\">\n",
       "  <thead>\n",
       "    <tr style=\"text-align: right;\">\n",
       "      <th></th>\n",
       "      <th>GOOD</th>\n",
       "      <th>Missed</th>\n",
       "      <th>Blocked</th>\n",
       "      <th>result</th>\n",
       "    </tr>\n",
       "  </thead>\n",
       "  <tbody>\n",
       "    <tr>\n",
       "      <th>count</th>\n",
       "      <td>1039.000000</td>\n",
       "      <td>1039.000000</td>\n",
       "      <td>1039.000000</td>\n",
       "      <td>1039.000000</td>\n",
       "    </tr>\n",
       "    <tr>\n",
       "      <th>mean</th>\n",
       "      <td>0.845043</td>\n",
       "      <td>0.133782</td>\n",
       "      <td>0.021174</td>\n",
       "      <td>0.176131</td>\n",
       "    </tr>\n",
       "    <tr>\n",
       "      <th>std</th>\n",
       "      <td>0.362038</td>\n",
       "      <td>0.340582</td>\n",
       "      <td>0.144034</td>\n",
       "      <td>0.433172</td>\n",
       "    </tr>\n",
       "    <tr>\n",
       "      <th>min</th>\n",
       "      <td>0.000000</td>\n",
       "      <td>0.000000</td>\n",
       "      <td>0.000000</td>\n",
       "      <td>0.000000</td>\n",
       "    </tr>\n",
       "    <tr>\n",
       "      <th>25%</th>\n",
       "      <td>1.000000</td>\n",
       "      <td>0.000000</td>\n",
       "      <td>0.000000</td>\n",
       "      <td>0.000000</td>\n",
       "    </tr>\n",
       "    <tr>\n",
       "      <th>50%</th>\n",
       "      <td>1.000000</td>\n",
       "      <td>0.000000</td>\n",
       "      <td>0.000000</td>\n",
       "      <td>0.000000</td>\n",
       "    </tr>\n",
       "    <tr>\n",
       "      <th>75%</th>\n",
       "      <td>1.000000</td>\n",
       "      <td>0.000000</td>\n",
       "      <td>0.000000</td>\n",
       "      <td>0.000000</td>\n",
       "    </tr>\n",
       "    <tr>\n",
       "      <th>max</th>\n",
       "      <td>1.000000</td>\n",
       "      <td>1.000000</td>\n",
       "      <td>1.000000</td>\n",
       "      <td>2.000000</td>\n",
       "    </tr>\n",
       "  </tbody>\n",
       "</table>\n",
       "</div>"
      ],
      "text/plain": [
       "              GOOD       Missed      Blocked       result\n",
       "count  1039.000000  1039.000000  1039.000000  1039.000000\n",
       "mean      0.845043     0.133782     0.021174     0.176131\n",
       "std       0.362038     0.340582     0.144034     0.433172\n",
       "min       0.000000     0.000000     0.000000     0.000000\n",
       "25%       1.000000     0.000000     0.000000     0.000000\n",
       "50%       1.000000     0.000000     0.000000     0.000000\n",
       "75%       1.000000     0.000000     0.000000     0.000000\n",
       "max       1.000000     1.000000     1.000000     2.000000"
      ]
     },
     "execution_count": 13,
     "metadata": {
      "tags": []
     },
     "output_type": "execute_result"
    }
   ],
   "source": [
    "y = df[['GOOD','Missed','Blocked','result']]\n",
    "y.describe()"
   ]
  },
  {
   "cell_type": "code",
   "execution_count": 0,
   "metadata": {
    "colab": {},
    "colab_type": "code",
    "id": "WkodWw_seSWn"
   },
   "outputs": [],
   "source": [
    "from sklearn.model_selection import train_test_split\n",
    "X_train, X_test, y_train, y_test = train_test_split(X, y, test_size = 0.25, random_state = 10)"
   ]
  },
  {
   "cell_type": "code",
   "execution_count": 15,
   "metadata": {
    "colab": {
     "base_uri": "https://localhost:8080/",
     "height": 54
    },
    "colab_type": "code",
    "id": "8u9fIAgvef0d",
    "outputId": "bc2f2184-693d-46de-d3a3-13ce04c2d589"
   },
   "outputs": [
    {
     "name": "stdout",
     "output_type": "stream",
     "text": [
      "(779, 7)\n",
      "(779, 4)\n"
     ]
    }
   ],
   "source": [
    "print(X_train.shape)\n",
    "print(y_train.shape)"
   ]
  },
  {
   "cell_type": "code",
   "execution_count": 16,
   "metadata": {
    "colab": {
     "base_uri": "https://localhost:8080/",
     "height": 74
    },
    "colab_type": "code",
    "id": "FYdtfqYvetbL",
    "outputId": "e109f6bf-dac4-4faf-bb6a-369b61d4c4f4"
   },
   "outputs": [
    {
     "name": "stderr",
     "output_type": "stream",
     "text": [
      "/usr/local/lib/python3.6/dist-packages/sklearn/preprocessing/data.py:334: DataConversionWarning: Data with input dtype int64, float64 were all converted to float64 by MinMaxScaler.\n",
      "  return self.partial_fit(X, y)\n"
     ]
    }
   ],
   "source": [
    "scaler = sklearn.preprocessing.MinMaxScaler()  \n",
    "scaler.fit(X_train)  \n",
    "X_train_scaled = scaler.transform(X_train)\n",
    "X_test_scaled = scaler.transform(X_test)"
   ]
  },
  {
   "cell_type": "markdown",
   "metadata": {
    "colab_type": "text",
    "id": "J6sQPTEOpqYV"
   },
   "source": [
    "# Neural Networks"
   ]
  },
  {
   "cell_type": "markdown",
   "metadata": {
    "colab_type": "text",
    "id": "Rr-7LaDYpu8u"
   },
   "source": [
    "## SciKit-Learn"
   ]
  },
  {
   "cell_type": "code",
   "execution_count": 0,
   "metadata": {
    "colab": {},
    "colab_type": "code",
    "id": "Wjs8lgF_egBI"
   },
   "outputs": [],
   "source": [
    "from sklearn.neural_network import MLPClassifier"
   ]
  },
  {
   "cell_type": "code",
   "execution_count": 18,
   "metadata": {
    "colab": {
     "base_uri": "https://localhost:8080/",
     "height": 36
    },
    "colab_type": "code",
    "id": "2a69HIQaevsT",
    "outputId": "96055a86-a310-409c-a363-e5211fa00665"
   },
   "outputs": [
    {
     "name": "stdout",
     "output_type": "stream",
     "text": [
      "sklearn training time: 12.022 seconds\n"
     ]
    }
   ],
   "source": [
    "nn = MLPClassifier(hidden_layer_sizes=(12,10,8,6), max_iter= 10000, random_state = 10,n_iter_no_change= 100)\n",
    "tic()\n",
    "nn.fit(X_train_scaled, y_train.result)\n",
    "toc('sklearn training time')\n",
    "nn_predicted = nn.predict(X_test_scaled)"
   ]
  },
  {
   "cell_type": "code",
   "execution_count": 19,
   "metadata": {
    "colab": {
     "base_uri": "https://localhost:8080/",
     "height": 374
    },
    "colab_type": "code",
    "id": "mC4XgVJVey_i",
    "outputId": "cffc82e7-6339-44fd-f4e5-d08a884a9f01"
   },
   "outputs": [
    {
     "name": "stdout",
     "output_type": "stream",
     "text": [
      "test set accuracy: 0.85000\n",
      "training set accuracy: 0.86136\n",
      "              precision    recall  f1-score   support\n",
      "\n",
      "           0       0.97      0.87      0.92       247\n",
      "           1       0.18      0.46      0.26        13\n",
      "           2       0.00      0.00      0.00         0\n",
      "\n",
      "   micro avg       0.85      0.85      0.85       260\n",
      "   macro avg       0.38      0.44      0.39       260\n",
      "weighted avg       0.93      0.85      0.88       260\n",
      "\n"
     ]
    },
    {
     "name": "stderr",
     "output_type": "stream",
     "text": [
      "/usr/local/lib/python3.6/dist-packages/sklearn/metrics/classification.py:1145: UndefinedMetricWarning: Recall and F-score are ill-defined and being set to 0.0 in labels with no true samples.\n",
      "  'recall', 'true', average, warn_for)\n",
      "/usr/local/lib/python3.6/dist-packages/sklearn/metrics/classification.py:1145: UndefinedMetricWarning: Recall and F-score are ill-defined and being set to 0.0 in labels with no true samples.\n",
      "  'recall', 'true', average, warn_for)\n",
      "/usr/local/lib/python3.6/dist-packages/sklearn/metrics/classification.py:1145: UndefinedMetricWarning: Recall and F-score are ill-defined and being set to 0.0 in labels with no true samples.\n",
      "  'recall', 'true', average, warn_for)\n"
     ]
    }
   ],
   "source": [
    "from sklearn.metrics import accuracy_score\n",
    "score_report(\"test set accuracy\",accuracy_score(nn_predicted, y_test.result))\n",
    "score_report(\"training set accuracy\",accuracy_score(nn.predict(X_train_scaled),y_train.result))\n",
    "print(sklearn.metrics.classification_report(nn_predicted, y_test.result))"
   ]
  },
  {
   "cell_type": "code",
   "execution_count": 20,
   "metadata": {
    "colab": {
     "base_uri": "https://localhost:8080/",
     "height": 626
    },
    "colab_type": "code",
    "id": "539wXjleDVJ5",
    "outputId": "4d205b42-5b55-473f-c76d-032028c1a510"
   },
   "outputs": [
    {
     "data": {
      "image/png": "[encoded data removed]",
      "text/plain": [
       "<Figure size 1080x720 with 2 Axes>"
      ]
     },
     "metadata": {
      "tags": []
     },
     "output_type": "display_data"
    }
   ],
   "source": [
    "nn_cf = sklearn.metrics.confusion_matrix(nn_predicted,y_test.result)\n",
    "nn_cf = pd.DataFrame(nn_cf, ['good','miss','block'], ['good','miss','block'])\n",
    "f, ax = plt.subplots(figsize=(15,10))\n",
    "sns.heatmap(nn_cf,linewidths=1,annot=True,fmt = 'd')\n",
    "ax.set(ylabel = \"Prediction\", xlabel = \"True Value\")\n",
    "plt.show()"
   ]
  },
  {
   "cell_type": "markdown",
   "metadata": {
    "colab_type": "text",
    "id": "bvfqwcnyp1aG"
   },
   "source": [
    "## Tensorflow"
   ]
  },
  {
   "cell_type": "markdown",
   "metadata": {
    "colab_type": "text",
    "id": "FveeyMPDp9dH"
   },
   "source": [
    "### Utility Functions"
   ]
  },
  {
   "cell_type": "code",
   "execution_count": 0,
   "metadata": {
    "colab": {},
    "colab_type": "code",
    "id": "STNnoOffhCNS"
   },
   "outputs": [],
   "source": [
    "class PrintDot(tf.keras.callbacks.Callback):\n",
    "  def on_epoch_end(self, epoch, logs):\n",
    "    if epoch % 100 == 0:\n",
    "      if epoch != 0:\n",
    "        print(epoch)\n",
    "      print('')\n",
    "    print('.', end='')\n",
    "    \n",
    "class PrintDotTimed(tf.keras.callbacks.Callback):\n",
    "  def on_epoch_end(self, epoch, logs):\n",
    "    if epoch % 100 == 0:\n",
    "      if epoch != 0:\n",
    "        print('')\n",
    "        toc('epoch ' + str(epoch))\n",
    "      tic()\n",
    "      print('')\n",
    "    print('.', end='')\n",
    "\n",
    "def plot_history_with_val(history):\n",
    "  hist = pd.DataFrame(history.history)\n",
    "  hist['epoch'] = history.epoch\n",
    "  \n",
    "  plt.figure()\n",
    "  plt.xlabel('Epoch')\n",
    "  plt.ylabel('accuracy')\n",
    "  plt.plot(hist['epoch'], hist['accuracy'],\n",
    "           label='Train Accuracy')\n",
    "  plt.plot(hist['epoch'], hist['val_accuracy'],\n",
    "           label = 'Val Accuracy')\n",
    "  plt.legend()\n",
    "  \n",
    "  plt.figure()\n",
    "  plt.xlabel('Epoch')\n",
    "  plt.ylabel('categorical_accuracy')\n",
    "  plt.plot(hist['epoch'], hist['categorical_accuracy'],\n",
    "           label='Train Accuracy')\n",
    "  plt.plot(hist['epoch'], hist['val_categorical_accuracy'],\n",
    "           label = 'Val Accuracy')\n",
    "  plt.legend()\n",
    "  plt.show()\n",
    "  \n",
    "def plot_history(history):\n",
    "  hist = pd.DataFrame(history.history)\n",
    "  hist['epoch'] = history.epoch\n",
    "  \n",
    "  plt.figure()\n",
    "  plt.xlabel('Epoch')\n",
    "  plt.ylabel('accuracy')\n",
    "  plt.plot(hist['epoch'], hist['accuracy'],\n",
    "           label='Train Accuracy')\n",
    "  plt.legend()\n",
    "  \n",
    "  plt.figure()\n",
    "  plt.xlabel('Epoch')\n",
    "  plt.ylabel('categorical_accuracy')\n",
    "  plt.plot(hist['epoch'], hist['categorical_accuracy'],\n",
    "           label='Train Accuracy')\n",
    "  plt.legend()\n",
    "  plt.show()"
   ]
  },
  {
   "cell_type": "markdown",
   "metadata": {
    "colab_type": "text",
    "id": "iuC_fz9dqIf1"
   },
   "source": [
    "### Setup"
   ]
  },
  {
   "cell_type": "code",
   "execution_count": 0,
   "metadata": {
    "colab": {},
    "colab_type": "code",
    "id": "ZBhXLZw7e1WO"
   },
   "outputs": [],
   "source": [
    "model = tf.keras.Sequential()\n",
    "model.add(layers.Dense(50, activation='relu',input_shape = [X_train_scaled.shape[1]]))\n",
    "model.add(layers.Dropout(rate = 0.5))\n",
    "model.add(layers.Dense(20, activation='relu'))\n",
    "model.add(layers.Dropout(rate = 0.5))\n",
    "model.add(layers.Dense(8, activation = 'sigmoid'))\n",
    "model.add(layers.Dense(6, activation = 'sigmoid'))\n",
    "model.add(layers.Dense(3, activation='softmax'))\n",
    "\n",
    "optimizer = tf.keras.optimizers.Adam()\n",
    "\n",
    "model.compile(loss='categorical_crossentropy',\n",
    "                optimizer=optimizer,\n",
    "                metrics=['accuracy', 'categorical_accuracy'])"
   ]
  },
  {
   "cell_type": "code",
   "execution_count": 23,
   "metadata": {
    "colab": {
     "base_uri": "https://localhost:8080/",
     "height": 428
    },
    "colab_type": "code",
    "id": "uOI_9gAfg-pX",
    "outputId": "10d4771f-caea-4280-c84f-cea4c7067a13"
   },
   "outputs": [
    {
     "name": "stdout",
     "output_type": "stream",
     "text": [
      "Model: \"sequential\"\n",
      "_________________________________________________________________\n",
      "Layer (type)                 Output Shape              Param #   \n",
      "=================================================================\n",
      "dense (Dense)                (None, 50)                400       \n",
      "_________________________________________________________________\n",
      "dropout (Dropout)            (None, 50)                0         \n",
      "_________________________________________________________________\n",
      "dense_1 (Dense)              (None, 20)                1020      \n",
      "_________________________________________________________________\n",
      "dropout_1 (Dropout)          (None, 20)                0         \n",
      "_________________________________________________________________\n",
      "dense_2 (Dense)              (None, 8)                 168       \n",
      "_________________________________________________________________\n",
      "dense_3 (Dense)              (None, 6)                 54        \n",
      "_________________________________________________________________\n",
      "dense_4 (Dense)              (None, 3)                 21        \n",
      "=================================================================\n",
      "Total params: 1,663\n",
      "Trainable params: 1,663\n",
      "Non-trainable params: 0\n",
      "_________________________________________________________________\n"
     ]
    }
   ],
   "source": [
    "model.summary()"
   ]
  },
  {
   "cell_type": "markdown",
   "metadata": {
    "colab_type": "text",
    "id": "M4Y4Hor_qX8K"
   },
   "source": [
    "### Training"
   ]
  },
  {
   "cell_type": "code",
   "execution_count": 24,
   "metadata": {
    "colab": {
     "base_uri": "https://localhost:8080/",
     "height": 785
    },
    "colab_type": "code",
    "id": "5csYsNZuhtyo",
    "outputId": "49991cd4-1912-422f-bd35-dcf5f7679eab"
   },
   "outputs": [
    {
     "name": "stdout",
     "output_type": "stream",
     "text": [
      "\n",
      "....................................................................................................100\n",
      "\n",
      "....................................................................................................200\n",
      "\n",
      "....................................................................................................300\n",
      "\n",
      "....................................................................................................400\n",
      "\n",
      "....................................................................................................500\n",
      "\n",
      "....................................................................................................600\n",
      "\n",
      "....................................................................................................700\n",
      "\n",
      "....................................................................................................800\n",
      "\n",
      "....................................................................................................900\n",
      "\n",
      "....................................................................................................1000\n",
      "\n",
      "....................................................................................................1100\n",
      "\n",
      "....................................................................................................1200\n",
      "\n",
      "....................................................................................................1300\n",
      "\n",
      "....................................................................................................1400\n",
      "\n",
      "....................................................................................................1500\n",
      "\n",
      "....................................................................................................1600\n",
      "\n",
      "....................................................................................................1700\n",
      "\n",
      "....................................................................................................1800\n",
      "\n",
      "....................................................................................................1900\n",
      "\n",
      "....................................................................................................tensorflow training time: 195.309 seconds\n"
     ]
    }
   ],
   "source": [
    "EPOCHS = 2000\n",
    "tic()\n",
    "history = model.fit(\n",
    "  X_train_scaled, y_train.drop(columns='result'),\n",
    "  epochs=EPOCHS, verbose=0,\n",
    "  callbacks=[PrintDot()])\n",
    "toc(\"tensorflow training time\")"
   ]
  },
  {
   "cell_type": "code",
   "execution_count": 25,
   "metadata": {
    "colab": {
     "base_uri": "https://localhost:8080/",
     "height": 583
    },
    "colab_type": "code",
    "id": "WO-TxMaSUUor",
    "outputId": "5b500850-f25a-48e0-9e97-a7a5728818ea"
   },
   "outputs": [
    {
     "data": {
      "image/png": "[encoded data removed]",
      "text/plain": [
       "<Figure size 432x288 with 1 Axes>"
      ]
     },
     "metadata": {
      "tags": []
     },
     "output_type": "display_data"
    },
    {
     "data": {
      "image/png": "[encoded data removed]",
      "text/plain": [
       "<Figure size 432x288 with 1 Axes>"
      ]
     },
     "metadata": {
      "tags": []
     },
     "output_type": "display_data"
    }
   ],
   "source": [
    "plot_history(history)"
   ]
  },
  {
   "cell_type": "markdown",
   "metadata": {
    "colab_type": "text",
    "id": "0O2oddhSqk1M"
   },
   "source": [
    "### Evaluation"
   ]
  },
  {
   "cell_type": "code",
   "execution_count": 26,
   "metadata": {
    "colab": {
     "base_uri": "https://localhost:8080/",
     "height": 54
    },
    "colab_type": "code",
    "id": "rhCn4s2GhL5L",
    "outputId": "7e698f19-93fb-46f5-a195-4c13bc8a6bc7"
   },
   "outputs": [
    {
     "name": "stdout",
     "output_type": "stream",
     "text": [
      "260/260 [==============================] - 0s 328us/sample - loss: 0.4508 - accuracy: 0.8423 - categorical_accuracy: 0.8423\n"
     ]
    },
    {
     "data": {
      "text/plain": [
       "[0.4508051468775823, 0.8423077, 0.8423077]"
      ]
     },
     "execution_count": 26,
     "metadata": {
      "tags": []
     },
     "output_type": "execute_result"
    }
   ],
   "source": [
    "model.evaluate(X_test_scaled, y_test.drop(columns = 'result'))"
   ]
  },
  {
   "cell_type": "code",
   "execution_count": 27,
   "metadata": {
    "colab": {
     "base_uri": "https://localhost:8080/",
     "height": 374
    },
    "colab_type": "code",
    "id": "rVFwSOqmDDwi",
    "outputId": "243d2b53-4688-445e-f0a1-832775196820"
   },
   "outputs": [
    {
     "name": "stdout",
     "output_type": "stream",
     "text": [
      "test accuracy: 0.84231\n",
      "training accuracy: 0.86136\n",
      "              precision    recall  f1-score   support\n",
      "\n",
      "           0       0.95      0.87      0.91       243\n",
      "           1       0.21      0.41      0.28        17\n",
      "           2       0.00      0.00      0.00         0\n",
      "\n",
      "   micro avg       0.84      0.84      0.84       260\n",
      "   macro avg       0.39      0.43      0.40       260\n",
      "weighted avg       0.91      0.84      0.87       260\n",
      "\n"
     ]
    },
    {
     "name": "stderr",
     "output_type": "stream",
     "text": [
      "/usr/local/lib/python3.6/dist-packages/sklearn/metrics/classification.py:1145: UndefinedMetricWarning: Recall and F-score are ill-defined and being set to 0.0 in labels with no true samples.\n",
      "  'recall', 'true', average, warn_for)\n",
      "/usr/local/lib/python3.6/dist-packages/sklearn/metrics/classification.py:1145: UndefinedMetricWarning: Recall and F-score are ill-defined and being set to 0.0 in labels with no true samples.\n",
      "  'recall', 'true', average, warn_for)\n",
      "/usr/local/lib/python3.6/dist-packages/sklearn/metrics/classification.py:1145: UndefinedMetricWarning: Recall and F-score are ill-defined and being set to 0.0 in labels with no true samples.\n",
      "  'recall', 'true', average, warn_for)\n"
     ]
    }
   ],
   "source": [
    "score_report(\"test accuracy\",accuracy_score(model.predict_classes(X_test_scaled), y_test.result))\n",
    "score_report(\"training accuracy\",accuracy_score(model.predict_classes(X_train_scaled),y_train.result))\n",
    "print(sklearn.metrics.classification_report(model.predict_classes(X_test_scaled), y_test.result))"
   ]
  },
  {
   "cell_type": "code",
   "execution_count": 28,
   "metadata": {
    "colab": {
     "base_uri": "https://localhost:8080/",
     "height": 626
    },
    "colab_type": "code",
    "id": "HDGzOKKyhPmG",
    "outputId": "50eb27c4-b4a8-4c41-dfc7-0263f0526d1f"
   },
   "outputs": [
    {
     "data": {
      "image/png": "[encoded data removed]",
      "text/plain": [
       "<Figure size 1080x720 with 2 Axes>"
      ]
     },
     "metadata": {
      "tags": []
     },
     "output_type": "display_data"
    }
   ],
   "source": [
    "nn_cf = sklearn.metrics.confusion_matrix(model.predict_classes(X_test_scaled),y_test.result)\n",
    "nn_cf = pd.DataFrame(nn_cf, ['good','miss','block'], ['good','miss','block'])\n",
    "f, ax = plt.subplots(figsize=(15,10))\n",
    "sns.heatmap(nn_cf,linewidths=1,annot=True,fmt = 'd')\n",
    "ax.set(ylabel = \"Prediction\", xlabel = \"True Value\")\n",
    "plt.show()"
   ]
  },
  {
   "cell_type": "markdown",
   "metadata": {
    "colab_type": "text",
    "id": "YsUt1QtTZLX7"
   },
   "source": [
    "## sklearn overfitting"
   ]
  },
  {
   "cell_type": "code",
   "execution_count": 29,
   "metadata": {
    "colab": {
     "base_uri": "https://localhost:8080/",
     "height": 36
    },
    "colab_type": "code",
    "id": "O71d6B-jY18G",
    "outputId": "819bcb6d-f441-4152-ed21-8254f004423d"
   },
   "outputs": [
    {
     "name": "stdout",
     "output_type": "stream",
     "text": [
      "sklearn training time: 18.095 seconds\n"
     ]
    }
   ],
   "source": [
    "nn = MLPClassifier(hidden_layer_sizes=(100,80,60,50,40), max_iter= 10000, random_state = 10,n_iter_no_change= 250)\n",
    "tic()\n",
    "nn.fit(X_train_scaled, y_train.result)\n",
    "toc('sklearn training time')\n",
    "nn_predicted = nn.predict(X_test_scaled)"
   ]
  },
  {
   "cell_type": "code",
   "execution_count": 30,
   "metadata": {
    "colab": {
     "base_uri": "https://localhost:8080/",
     "height": 54
    },
    "colab_type": "code",
    "id": "RtL8-BGqZhFr",
    "outputId": "661803be-57e8-401f-b445-fb031a241fab"
   },
   "outputs": [
    {
     "name": "stdout",
     "output_type": "stream",
     "text": [
      "test set accuracy: 0.81923\n",
      "training set accuracy: 0.89345\n"
     ]
    }
   ],
   "source": [
    "from sklearn.metrics import accuracy_score\n",
    "score_report(\"test set accuracy\",accuracy_score(nn_predicted, y_test.result))\n",
    "score_report(\"training set accuracy\",accuracy_score(nn.predict(X_train_scaled),y_train.result))"
   ]
  },
  {
   "cell_type": "code",
   "execution_count": 31,
   "metadata": {
    "colab": {
     "base_uri": "https://localhost:8080/",
     "height": 204
    },
    "colab_type": "code",
    "id": "IKhKQD1mZ62M",
    "outputId": "c2615084-207f-4320-8688-e0a4e4e38820"
   },
   "outputs": [
    {
     "name": "stdout",
     "output_type": "stream",
     "text": [
      "              precision    recall  f1-score   support\n",
      "\n",
      "           0       0.97      0.91      0.94       700\n",
      "           1       0.50      0.73      0.59        73\n",
      "           2       0.35      1.00      0.52         6\n",
      "\n",
      "   micro avg       0.89      0.89      0.89       779\n",
      "   macro avg       0.61      0.88      0.68       779\n",
      "weighted avg       0.92      0.89      0.90       779\n",
      "\n"
     ]
    }
   ],
   "source": [
    "print(sklearn.metrics.classification_report(nn.predict(X_train_scaled), y_train.result))"
   ]
  },
  {
   "cell_type": "code",
   "execution_count": 32,
   "metadata": {
    "colab": {
     "base_uri": "https://localhost:8080/",
     "height": 626
    },
    "colab_type": "code",
    "id": "5cGzzDDWaK1b",
    "outputId": "cdfaa031-b68d-43fe-a21e-642ddb8296b8"
   },
   "outputs": [
    {
     "data": {
      "image/png": "[encoded data removed]",
      "text/plain": [
       "<Figure size 1080x720 with 2 Axes>"
      ]
     },
     "metadata": {
      "tags": []
     },
     "output_type": "display_data"
    }
   ],
   "source": [
    "nn_cf = sklearn.metrics.confusion_matrix(nn.predict(X_train_scaled), y_train.result)\n",
    "nn_cf = pd.DataFrame(nn_cf, ['good','miss','block'], ['good','miss','block'])\n",
    "f, ax = plt.subplots(figsize=(15,10))\n",
    "sns.heatmap(nn_cf,linewidths=1,annot=True,fmt = 'd')\n",
    "ax.set(ylabel = \"Prediction\", xlabel = \"True Value\")\n",
    "plt.show()"
   ]
  },
  {
   "cell_type": "code",
   "execution_count": 33,
   "metadata": {
    "colab": {
     "base_uri": "https://localhost:8080/",
     "height": 204
    },
    "colab_type": "code",
    "id": "jQIE3chQaEM9",
    "outputId": "1effc59d-dc95-4986-ef35-83e12a226258"
   },
   "outputs": [
    {
     "name": "stdout",
     "output_type": "stream",
     "text": [
      "              precision    recall  f1-score   support\n",
      "\n",
      "           0       0.94      0.86      0.90       241\n",
      "           1       0.15      0.28      0.20        18\n",
      "           2       0.00      0.00      0.00         1\n",
      "\n",
      "   micro avg       0.82      0.82      0.82       260\n",
      "   macro avg       0.36      0.38      0.36       260\n",
      "weighted avg       0.88      0.82      0.85       260\n",
      "\n"
     ]
    }
   ],
   "source": [
    "print(sklearn.metrics.classification_report(nn_predicted, y_test.result))"
   ]
  },
  {
   "cell_type": "code",
   "execution_count": 34,
   "metadata": {
    "colab": {
     "base_uri": "https://localhost:8080/",
     "height": 626
    },
    "colab_type": "code",
    "id": "PnMVe9PkZ4l5",
    "outputId": "0c11b93b-ebe2-4aa6-c74e-f4f3acb1ac1d"
   },
   "outputs": [
    {
     "data": {
      "image/png": "[encoded data removed]",
      "text/plain": [
       "<Figure size 1080x720 with 2 Axes>"
      ]
     },
     "metadata": {
      "tags": []
     },
     "output_type": "display_data"
    }
   ],
   "source": [
    "nn_cf = sklearn.metrics.confusion_matrix(nn_predicted,y_test.result)\n",
    "nn_cf = pd.DataFrame(nn_cf, ['good','miss','block'], ['good','miss','block'])\n",
    "f, ax = plt.subplots(figsize=(15,10))\n",
    "sns.heatmap(nn_cf,linewidths=1,annot=True,fmt = 'd')\n",
    "ax.set(ylabel = \"Prediction\", xlabel = \"True Value\")\n",
    "plt.show()"
   ]
  },
  {
   "cell_type": "markdown",
   "metadata": {
    "colab_type": "text",
    "id": "HGRFoYvMFr8I"
   },
   "source": [
    "# Larger Dataset"
   ]
  },
  {
   "cell_type": "code",
   "execution_count": 35,
   "metadata": {
    "colab": {
     "base_uri": "https://localhost:8080/",
     "height": 36
    },
    "colab_type": "code",
    "id": "jafyTXk_dGRS",
    "outputId": "444014c2-a4fa-41d5-c72e-af5abccb189c"
   },
   "outputs": [
    {
     "name": "stdout",
     "output_type": "stream",
     "text": [
      "Drive already mounted at /content/drive; to attempt to forcibly remount, call drive.mount(\"/content/drive\", force_remount=True).\n"
     ]
    }
   ],
   "source": [
    "from google.colab import drive\n",
    "drive.mount('/content/drive')"
   ]
  },
  {
   "cell_type": "code",
   "execution_count": 36,
   "metadata": {
    "colab": {
     "base_uri": "https://localhost:8080/",
     "height": 36
    },
    "colab_type": "code",
    "id": "U2xkYvTKd4l-",
    "outputId": "c65ff26e-f440-4abd-9e3e-ebd1c2744948"
   },
   "outputs": [
    {
     "name": "stdout",
     "output_type": "stream",
     "text": [
      "read feather from Google Drive: 1.528 seconds\n"
     ]
    }
   ],
   "source": [
    "tic()\n",
    "bigdf = pd.read_feather('drive/My Drive/data/NFL_pbp_2009_2018.feather')\n",
    "toc('read feather from Google Drive')"
   ]
  },
  {
   "cell_type": "code",
   "execution_count": 37,
   "metadata": {
    "colab": {
     "base_uri": "https://localhost:8080/",
     "height": 36
    },
    "colab_type": "code",
    "id": "VVc-o54_eJ27",
    "outputId": "f78f9fac-376e-47d3-90d5-58c85982641e"
   },
   "outputs": [
    {
     "data": {
      "text/plain": [
       "(452661, 203)"
      ]
     },
     "execution_count": 37,
     "metadata": {
      "tags": []
     },
     "output_type": "execute_result"
    }
   ],
   "source": [
    "bigdf.shape"
   ]
  },
  {
   "cell_type": "markdown",
   "metadata": {
    "colab_type": "text",
    "id": "mqBdftQ9KLvo"
   },
   "source": [
    "## Data Wrangling"
   ]
  },
  {
   "cell_type": "code",
   "execution_count": 0,
   "metadata": {
    "colab": {},
    "colab_type": "code",
    "id": "2om-oWu9F1OG"
   },
   "outputs": [],
   "source": [
    "kicks_df = bigdf.loc[pd.notna(bigdf.field_goal_result),].reset_index()\n",
    "\n",
    "kicks_df.loc[kicks_df.kick_distance.isna(),'kick_distance'] = (kicks_df.loc[kicks_df.kick_distance.isna(),'yardline_100'] + 18)\n",
    "\n",
    "kicks_df = kicks_df[['posteam_type','yardline_100','half_seconds_remaining','game_seconds_remaining','game_half','quarter','field_goal_result','kick_distance','score_differential','penalty','game_date']]\n",
    "\n",
    "kicks_df.posteam_type = (kicks_df.posteam_type == 'home')\n",
    "\n",
    "kicks_df = kicks_df.rename(columns={'posteam_type':'kicking_at_home'})\n",
    "\n",
    "kicks_df['overtime'] = kicks_df.quarter == 5\n",
    "kicks_df['two_minute_warning'] = kicks_df.half_seconds_remaining <= 120\n",
    "kicks_df['fourth_quarter'] = kicks_df.quarter == 4\n",
    "\n",
    "kicks_df['close_score'] = kicks_df.score_differential.abs() <= 8\n",
    "kicks_df['lead_can_change'] = (kicks_df.score_differential >= -3) & (kicks_df.score_differential <= 0)\n",
    "\n",
    "result_dict = {'made':0,'missed':1,'blocked':2}\n",
    "half_map = {'Half1':1,'Half2':2,'Overtime':3}\n",
    "kicks_df.game_half = kicks_df.game_half.map(half_map)\n",
    "kicks_df.field_goal_result = kicks_df.field_goal_result.map(result_dict)\n",
    "\n",
    "kicks_df = kicks_df.assign(weekday = kicks_df.game_date.map(pd.datetime.weekday))\n",
    "\n",
    "days_dict = {6:'sunday',0:'monday',3:'thursday',5:'saturday',2:'other_day',1:'other_day',4:'other_day'}\n",
    "\n",
    "kicks_df = kicks_df.join(\n",
    "    kicks_df.assign(\n",
    "        weekday = kicks_df.weekday.map(days_dict), temp = True\n",
    "    ).pivot(columns = 'weekday', values = 'temp').fillna(False)\n",
    ")\n",
    "kicks_df = kicks_df.assign(good = kicks_df.field_goal_result == 0,miss = kicks_df.field_goal_result == 1,block = kicks_df.field_goal_result == 2)"
   ]
  },
  {
   "cell_type": "code",
   "execution_count": 39,
   "metadata": {
    "colab": {
     "base_uri": "https://localhost:8080/",
     "height": 320
    },
    "colab_type": "code",
    "id": "sSYJfcUVA0rS",
    "outputId": "b365cce4-6bc4-4029-afaf-f02aeeabd413"
   },
   "outputs": [
    {
     "data": {
      "text/html": [
       "<div>\n",
       "<style scoped>\n",
       "    .dataframe tbody tr th:only-of-type {\n",
       "        vertical-align: middle;\n",
       "    }\n",
       "\n",
       "    .dataframe tbody tr th {\n",
       "        vertical-align: top;\n",
       "    }\n",
       "\n",
       "    .dataframe thead th {\n",
       "        text-align: right;\n",
       "    }\n",
       "</style>\n",
       "<table border=\"1\" class=\"dataframe\">\n",
       "  <thead>\n",
       "    <tr style=\"text-align: right;\">\n",
       "      <th></th>\n",
       "      <th>yardline_100</th>\n",
       "      <th>half_seconds_remaining</th>\n",
       "      <th>game_seconds_remaining</th>\n",
       "      <th>game_half</th>\n",
       "      <th>quarter</th>\n",
       "      <th>field_goal_result</th>\n",
       "      <th>kick_distance</th>\n",
       "      <th>score_differential</th>\n",
       "      <th>weekday</th>\n",
       "    </tr>\n",
       "  </thead>\n",
       "  <tbody>\n",
       "    <tr>\n",
       "      <th>count</th>\n",
       "      <td>9872.000000</td>\n",
       "      <td>9872.000000</td>\n",
       "      <td>9872.000000</td>\n",
       "      <td>9872.000000</td>\n",
       "      <td>9872.000000</td>\n",
       "      <td>9872.000000</td>\n",
       "      <td>9872.000000</td>\n",
       "      <td>9872.000000</td>\n",
       "      <td>9872.000000</td>\n",
       "    </tr>\n",
       "    <tr>\n",
       "      <th>mean</th>\n",
       "      <td>19.525932</td>\n",
       "      <td>693.085190</td>\n",
       "      <td>1659.090053</td>\n",
       "      <td>1.479335</td>\n",
       "      <td>2.569287</td>\n",
       "      <td>0.182536</td>\n",
       "      <td>37.551053</td>\n",
       "      <td>0.559664</td>\n",
       "      <td>5.419976</td>\n",
       "    </tr>\n",
       "    <tr>\n",
       "      <th>std</th>\n",
       "      <td>10.255491</td>\n",
       "      <td>524.608069</td>\n",
       "      <td>983.173711</td>\n",
       "      <td>0.530671</td>\n",
       "      <td>1.108472</td>\n",
       "      <td>0.437233</td>\n",
       "      <td>10.251118</td>\n",
       "      <td>9.272946</td>\n",
       "      <td>1.596610</td>\n",
       "    </tr>\n",
       "    <tr>\n",
       "      <th>min</th>\n",
       "      <td>1.000000</td>\n",
       "      <td>0.000000</td>\n",
       "      <td>0.000000</td>\n",
       "      <td>1.000000</td>\n",
       "      <td>1.000000</td>\n",
       "      <td>0.000000</td>\n",
       "      <td>18.000000</td>\n",
       "      <td>-41.000000</td>\n",
       "      <td>0.000000</td>\n",
       "    </tr>\n",
       "    <tr>\n",
       "      <th>25%</th>\n",
       "      <td>11.000000</td>\n",
       "      <td>179.000000</td>\n",
       "      <td>817.000000</td>\n",
       "      <td>1.000000</td>\n",
       "      <td>2.000000</td>\n",
       "      <td>0.000000</td>\n",
       "      <td>29.000000</td>\n",
       "      <td>-4.000000</td>\n",
       "      <td>6.000000</td>\n",
       "    </tr>\n",
       "    <tr>\n",
       "      <th>50%</th>\n",
       "      <td>20.000000</td>\n",
       "      <td>665.000000</td>\n",
       "      <td>1804.000000</td>\n",
       "      <td>1.000000</td>\n",
       "      <td>2.000000</td>\n",
       "      <td>0.000000</td>\n",
       "      <td>38.000000</td>\n",
       "      <td>0.000000</td>\n",
       "      <td>6.000000</td>\n",
       "    </tr>\n",
       "    <tr>\n",
       "      <th>75%</th>\n",
       "      <td>28.000000</td>\n",
       "      <td>1158.250000</td>\n",
       "      <td>2438.000000</td>\n",
       "      <td>2.000000</td>\n",
       "      <td>4.000000</td>\n",
       "      <td>0.000000</td>\n",
       "      <td>46.000000</td>\n",
       "      <td>6.000000</td>\n",
       "      <td>6.000000</td>\n",
       "    </tr>\n",
       "    <tr>\n",
       "      <th>max</th>\n",
       "      <td>61.000000</td>\n",
       "      <td>1772.000000</td>\n",
       "      <td>3547.000000</td>\n",
       "      <td>3.000000</td>\n",
       "      <td>5.000000</td>\n",
       "      <td>2.000000</td>\n",
       "      <td>71.000000</td>\n",
       "      <td>46.000000</td>\n",
       "      <td>6.000000</td>\n",
       "    </tr>\n",
       "  </tbody>\n",
       "</table>\n",
       "</div>"
      ],
      "text/plain": [
       "       yardline_100  half_seconds_remaining  game_seconds_remaining  \\\n",
       "count   9872.000000             9872.000000             9872.000000   \n",
       "mean      19.525932              693.085190             1659.090053   \n",
       "std       10.255491              524.608069              983.173711   \n",
       "min        1.000000                0.000000                0.000000   \n",
       "25%       11.000000              179.000000              817.000000   \n",
       "50%       20.000000              665.000000             1804.000000   \n",
       "75%       28.000000             1158.250000             2438.000000   \n",
       "max       61.000000             1772.000000             3547.000000   \n",
       "\n",
       "         game_half      quarter  field_goal_result  kick_distance  \\\n",
       "count  9872.000000  9872.000000        9872.000000    9872.000000   \n",
       "mean      1.479335     2.569287           0.182536      37.551053   \n",
       "std       0.530671     1.108472           0.437233      10.251118   \n",
       "min       1.000000     1.000000           0.000000      18.000000   \n",
       "25%       1.000000     2.000000           0.000000      29.000000   \n",
       "50%       1.000000     2.000000           0.000000      38.000000   \n",
       "75%       2.000000     4.000000           0.000000      46.000000   \n",
       "max       3.000000     5.000000           2.000000      71.000000   \n",
       "\n",
       "       score_differential      weekday  \n",
       "count         9872.000000  9872.000000  \n",
       "mean             0.559664     5.419976  \n",
       "std              9.272946     1.596610  \n",
       "min            -41.000000     0.000000  \n",
       "25%             -4.000000     6.000000  \n",
       "50%              0.000000     6.000000  \n",
       "75%              6.000000     6.000000  \n",
       "max             46.000000     6.000000  "
      ]
     },
     "execution_count": 39,
     "metadata": {
      "tags": []
     },
     "output_type": "execute_result"
    }
   ],
   "source": [
    "kicks_df.describe()"
   ]
  },
  {
   "cell_type": "code",
   "execution_count": 40,
   "metadata": {
    "colab": {
     "base_uri": "https://localhost:8080/",
     "height": 74
    },
    "colab_type": "code",
    "id": "fsCXX2XRGOuR",
    "outputId": "f543776a-fdb0-41a9-ea80-a30e9da00c5a"
   },
   "outputs": [
    {
     "name": "stderr",
     "output_type": "stream",
     "text": [
      "/usr/local/lib/python3.6/dist-packages/sklearn/preprocessing/data.py:334: DataConversionWarning: Data with input dtype bool, int64, float64, object were all converted to float64 by MinMaxScaler.\n",
      "  return self.partial_fit(X, y)\n"
     ]
    }
   ],
   "source": [
    "X = kicks_df.drop(columns=['game_date','field_goal_result','good','miss','block','weekday'])\n",
    "y = kicks_df[['good','miss','block','field_goal_result']]\n",
    "X_train, X_test, y_train, y_test = train_test_split(X, y, test_size = 0.25, random_state = 10)\n",
    "#X = X.kick_distance\n",
    "scaler = sklearn.preprocessing.MinMaxScaler()  \n",
    "scaler.fit(X_train)  \n",
    "X_train_scaled = scaler.transform(X_train)\n",
    "X_test_scaled = scaler.transform(X_test)"
   ]
  },
  {
   "cell_type": "code",
   "execution_count": 41,
   "metadata": {
    "colab": {
     "base_uri": "https://localhost:8080/",
     "height": 54
    },
    "colab_type": "code",
    "id": "_PgxHnDaYZ_-",
    "outputId": "6c436bbf-f5a4-415d-e9f7-b45be3a2874a"
   },
   "outputs": [
    {
     "name": "stdout",
     "output_type": "stream",
     "text": [
      "(7404, 19)\n",
      "(7404, 4)\n"
     ]
    }
   ],
   "source": [
    "print(X_train.shape)\n",
    "print(y_train.shape)"
   ]
  },
  {
   "cell_type": "markdown",
   "metadata": {
    "colab_type": "text",
    "id": "_etgh60UPHEe"
   },
   "source": [
    "## Logistic Regression"
   ]
  },
  {
   "cell_type": "code",
   "execution_count": 42,
   "metadata": {
    "colab": {
     "base_uri": "https://localhost:8080/",
     "height": 92
    },
    "colab_type": "code",
    "id": "RlCGnp-9PLIe",
    "outputId": "b5e7b6a5-c15b-468c-c14a-7ac6ef0aa711"
   },
   "outputs": [
    {
     "data": {
      "text/plain": [
       "LogisticRegression(C=1.0, class_weight=None, dual=False, fit_intercept=True,\n",
       "          intercept_scaling=1, max_iter=1000, multi_class='warn',\n",
       "          n_jobs=None, penalty='l2', random_state=10, solver='lbfgs',\n",
       "          tol=0.0001, verbose=0, warm_start=False)"
      ]
     },
     "execution_count": 42,
     "metadata": {
      "tags": []
     },
     "output_type": "execute_result"
    }
   ],
   "source": [
    "from sklearn.linear_model import LogisticRegression\n",
    "logistic = LogisticRegression(solver = 'lbfgs', max_iter=1000, random_state = 10)\n",
    "logistic.fit(X_train,y_train.good.values.ravel())"
   ]
  },
  {
   "cell_type": "code",
   "execution_count": 43,
   "metadata": {
    "colab": {
     "base_uri": "https://localhost:8080/",
     "height": 54
    },
    "colab_type": "code",
    "id": "OQH73zd2PTeQ",
    "outputId": "f76bd6d1-3a5c-4456-9e98-ea9c25699bac"
   },
   "outputs": [
    {
     "name": "stdout",
     "output_type": "stream",
     "text": [
      "test score: 0.84522\n",
      "training score: 0.84049\n"
     ]
    }
   ],
   "source": [
    "score_report('test score', logistic.score(X_test,y_test.good.values.ravel()))\n",
    "\n",
    "score_report( 'training score', logistic.score(X_train,y_train.good.values.ravel()))"
   ]
  },
  {
   "cell_type": "code",
   "execution_count": 44,
   "metadata": {
    "colab": {
     "base_uri": "https://localhost:8080/",
     "height": 185
    },
    "colab_type": "code",
    "id": "1CB43BBOSSnX",
    "outputId": "d6001d60-4bac-4eb5-ba7d-d304bdc97902"
   },
   "outputs": [
    {
     "name": "stdout",
     "output_type": "stream",
     "text": [
      "              precision    recall  f1-score   support\n",
      "\n",
      "       False       0.07      0.63      0.12        41\n",
      "        True       0.99      0.85      0.92      2427\n",
      "\n",
      "   micro avg       0.85      0.85      0.85      2468\n",
      "   macro avg       0.53      0.74      0.52      2468\n",
      "weighted avg       0.98      0.85      0.90      2468\n",
      "\n"
     ]
    }
   ],
   "source": [
    "print(sklearn.metrics.classification_report(logistic.predict(X_test),y_test.good.values.ravel()))"
   ]
  },
  {
   "cell_type": "code",
   "execution_count": 45,
   "metadata": {
    "colab": {
     "base_uri": "https://localhost:8080/",
     "height": 645
    },
    "colab_type": "code",
    "id": "DuNf_uYTPXPO",
    "outputId": "4d4a4309-011d-4ed2-a330-a29bafcb931a"
   },
   "outputs": [
    {
     "data": {
      "text/html": [
       "<div>\n",
       "<style scoped>\n",
       "    .dataframe tbody tr th:only-of-type {\n",
       "        vertical-align: middle;\n",
       "    }\n",
       "\n",
       "    .dataframe tbody tr th {\n",
       "        vertical-align: top;\n",
       "    }\n",
       "\n",
       "    .dataframe thead th {\n",
       "        text-align: right;\n",
       "    }\n",
       "</style>\n",
       "<table border=\"1\" class=\"dataframe\">\n",
       "  <thead>\n",
       "    <tr style=\"text-align: right;\">\n",
       "      <th></th>\n",
       "      <th>attribute</th>\n",
       "      <th>coefficient</th>\n",
       "    </tr>\n",
       "  </thead>\n",
       "  <tbody>\n",
       "    <tr>\n",
       "      <th>0</th>\n",
       "      <td>kicking_at_home</td>\n",
       "      <td>0.014811</td>\n",
       "    </tr>\n",
       "    <tr>\n",
       "      <th>1</th>\n",
       "      <td>yardline_100</td>\n",
       "      <td>-0.280028</td>\n",
       "    </tr>\n",
       "    <tr>\n",
       "      <th>2</th>\n",
       "      <td>half_seconds_remaining</td>\n",
       "      <td>0.000051</td>\n",
       "    </tr>\n",
       "    <tr>\n",
       "      <th>3</th>\n",
       "      <td>game_seconds_remaining</td>\n",
       "      <td>0.000168</td>\n",
       "    </tr>\n",
       "    <tr>\n",
       "      <th>4</th>\n",
       "      <td>game_half</td>\n",
       "      <td>0.051796</td>\n",
       "    </tr>\n",
       "    <tr>\n",
       "      <th>5</th>\n",
       "      <td>quarter</td>\n",
       "      <td>0.109203</td>\n",
       "    </tr>\n",
       "    <tr>\n",
       "      <th>6</th>\n",
       "      <td>kick_distance</td>\n",
       "      <td>0.178765</td>\n",
       "    </tr>\n",
       "    <tr>\n",
       "      <th>7</th>\n",
       "      <td>score_differential</td>\n",
       "      <td>-0.000152</td>\n",
       "    </tr>\n",
       "    <tr>\n",
       "      <th>8</th>\n",
       "      <td>penalty</td>\n",
       "      <td>-0.000211</td>\n",
       "    </tr>\n",
       "    <tr>\n",
       "      <th>9</th>\n",
       "      <td>overtime</td>\n",
       "      <td>0.001080</td>\n",
       "    </tr>\n",
       "    <tr>\n",
       "      <th>10</th>\n",
       "      <td>two_minute_warning</td>\n",
       "      <td>0.010063</td>\n",
       "    </tr>\n",
       "    <tr>\n",
       "      <th>11</th>\n",
       "      <td>fourth_quarter</td>\n",
       "      <td>0.023509</td>\n",
       "    </tr>\n",
       "    <tr>\n",
       "      <th>12</th>\n",
       "      <td>close_score</td>\n",
       "      <td>0.012221</td>\n",
       "    </tr>\n",
       "    <tr>\n",
       "      <th>13</th>\n",
       "      <td>lead_can_change</td>\n",
       "      <td>0.002504</td>\n",
       "    </tr>\n",
       "    <tr>\n",
       "      <th>14</th>\n",
       "      <td>monday</td>\n",
       "      <td>0.002074</td>\n",
       "    </tr>\n",
       "    <tr>\n",
       "      <th>15</th>\n",
       "      <td>other_day</td>\n",
       "      <td>-0.000026</td>\n",
       "    </tr>\n",
       "    <tr>\n",
       "      <th>16</th>\n",
       "      <td>saturday</td>\n",
       "      <td>0.000091</td>\n",
       "    </tr>\n",
       "    <tr>\n",
       "      <th>17</th>\n",
       "      <td>sunday</td>\n",
       "      <td>0.021589</td>\n",
       "    </tr>\n",
       "    <tr>\n",
       "      <th>18</th>\n",
       "      <td>thursday</td>\n",
       "      <td>0.001631</td>\n",
       "    </tr>\n",
       "  </tbody>\n",
       "</table>\n",
       "</div>"
      ],
      "text/plain": [
       "                 attribute  coefficient\n",
       "0          kicking_at_home     0.014811\n",
       "1             yardline_100    -0.280028\n",
       "2   half_seconds_remaining     0.000051\n",
       "3   game_seconds_remaining     0.000168\n",
       "4                game_half     0.051796\n",
       "5                  quarter     0.109203\n",
       "6            kick_distance     0.178765\n",
       "7       score_differential    -0.000152\n",
       "8                  penalty    -0.000211\n",
       "9                 overtime     0.001080\n",
       "10      two_minute_warning     0.010063\n",
       "11          fourth_quarter     0.023509\n",
       "12             close_score     0.012221\n",
       "13         lead_can_change     0.002504\n",
       "14                  monday     0.002074\n",
       "15               other_day    -0.000026\n",
       "16                saturday     0.000091\n",
       "17                  sunday     0.021589\n",
       "18                thursday     0.001631"
      ]
     },
     "execution_count": 45,
     "metadata": {
      "tags": []
     },
     "output_type": "execute_result"
    }
   ],
   "source": [
    "pd.DataFrame(\n",
    "    {\"attribute\" : X.columns.values,\n",
    "     \"coefficient\" : logistic.coef_[0]}\n",
    ")"
   ]
  },
  {
   "cell_type": "markdown",
   "metadata": {
    "colab_type": "text",
    "id": "KDmdvWEyKTXh"
   },
   "source": [
    "## Neural Nets"
   ]
  },
  {
   "cell_type": "markdown",
   "metadata": {
    "colab_type": "text",
    "id": "y0OI7NPpKlbw"
   },
   "source": [
    "### SciKit-Learn"
   ]
  },
  {
   "cell_type": "code",
   "execution_count": 46,
   "metadata": {
    "colab": {
     "base_uri": "https://localhost:8080/",
     "height": 392
    },
    "colab_type": "code",
    "id": "N_tkZSf-KanS",
    "outputId": "020e3dac-3e00-4e9a-b47b-921505eaeae8"
   },
   "outputs": [
    {
     "name": "stdout",
     "output_type": "stream",
     "text": [
      "sklearn nnet training: 42.976 seconds\n",
      "test accuracy: 0.83630\n",
      "training accuracy: 0.84616\n",
      "              precision    recall  f1-score   support\n",
      "\n",
      "           0       0.98      0.85      0.91      2377\n",
      "           1       0.11      0.42      0.17        91\n",
      "           2       0.00      0.00      0.00         0\n",
      "\n",
      "   micro avg       0.84      0.84      0.84      2468\n",
      "   macro avg       0.36      0.42      0.36      2468\n",
      "weighted avg       0.94      0.84      0.88      2468\n",
      "\n"
     ]
    },
    {
     "name": "stderr",
     "output_type": "stream",
     "text": [
      "/usr/local/lib/python3.6/dist-packages/sklearn/metrics/classification.py:1145: UndefinedMetricWarning: Recall and F-score are ill-defined and being set to 0.0 in labels with no true samples.\n",
      "  'recall', 'true', average, warn_for)\n",
      "/usr/local/lib/python3.6/dist-packages/sklearn/metrics/classification.py:1145: UndefinedMetricWarning: Recall and F-score are ill-defined and being set to 0.0 in labels with no true samples.\n",
      "  'recall', 'true', average, warn_for)\n",
      "/usr/local/lib/python3.6/dist-packages/sklearn/metrics/classification.py:1145: UndefinedMetricWarning: Recall and F-score are ill-defined and being set to 0.0 in labels with no true samples.\n",
      "  'recall', 'true', average, warn_for)\n"
     ]
    }
   ],
   "source": [
    "nn = MLPClassifier(hidden_layer_sizes=(15,12,10,8,6), max_iter= 10000, n_iter_no_change=100, random_state = 10)\n",
    "tic()\n",
    "nn.fit(X_train_scaled, y_train.field_goal_result)\n",
    "toc('sklearn nnet training')\n",
    "nn_predicted = nn.predict(X_test_scaled)\n",
    "\n",
    "score_report(\"test accuracy\",accuracy_score(nn_predicted, y_test.field_goal_result))\n",
    "score_report(\"training accuracy\",accuracy_score(nn.predict(X_train_scaled),y_train.field_goal_result))\n",
    "print(sklearn.metrics.classification_report(nn_predicted, y_test.field_goal_result))"
   ]
  },
  {
   "cell_type": "code",
   "execution_count": 47,
   "metadata": {
    "colab": {
     "base_uri": "https://localhost:8080/",
     "height": 626
    },
    "colab_type": "code",
    "id": "8L7Wvsmd31xs",
    "outputId": "eca31abe-3d4c-4b6f-bc58-7bf5477b3dcd"
   },
   "outputs": [
    {
     "data": {
      "image/png": "[encoded data removed]",
      "text/plain": [
       "<Figure size 1080x720 with 2 Axes>"
      ]
     },
     "metadata": {
      "tags": []
     },
     "output_type": "display_data"
    }
   ],
   "source": [
    "nn_cf = sklearn.metrics.confusion_matrix(nn_predicted,y_test.field_goal_result)\n",
    "nn_cf = pd.DataFrame(nn_cf, ['good','miss','block'], ['good','miss','block'])\n",
    "f, ax = plt.subplots(figsize=(15,10))\n",
    "sns.heatmap(nn_cf,linewidths=1,annot=True,fmt = 'd')\n",
    "ax.set(ylabel = \"Prediction\", xlabel = \"True Value\")\n",
    "plt.show()"
   ]
  },
  {
   "cell_type": "markdown",
   "metadata": {
    "colab_type": "text",
    "id": "Z2kjAcqCLERd"
   },
   "source": [
    "### TensorFlow"
   ]
  },
  {
   "cell_type": "code",
   "execution_count": 0,
   "metadata": {
    "colab": {},
    "colab_type": "code",
    "id": "EJuix-WkGU6L"
   },
   "outputs": [],
   "source": [
    "model = tf.keras.Sequential()\n",
    "model.add(layers.Dense(30, activation='relu',input_shape = [X_train_scaled.shape[1]]))\n",
    "model.add(layers.Dropout(rate = 0.5))\n",
    "model.add(layers.Dense(20, activation='relu',input_shape = [X_train_scaled.shape[1]]))\n",
    "model.add(layers.Dropout(rate = 0.4))\n",
    "model.add(layers.Dense(10, activation='relu'))\n",
    "model.add(layers.Dense(8, activation = 'sigmoid'))\n",
    "model.add(layers.Dense(6, activation = 'sigmoid'))\n",
    "model.add(layers.Dense(3, activation='softmax'))\n",
    "\n",
    "optimizer = tf.keras.optimizers.Adam()\n",
    "\n",
    "model.compile(loss='categorical_crossentropy',\n",
    "                optimizer=optimizer,\n",
    "                metrics=['accuracy', 'categorical_accuracy'])"
   ]
  },
  {
   "cell_type": "code",
   "execution_count": 0,
   "metadata": {
    "colab": {
     "base_uri": "https://localhost:8080/",
     "height": 204
    },
    "colab_type": "code",
    "id": "lQGg_bL-Gaag",
    "outputId": "19a32e9d-ea99-4449-ab7c-a438d17bf9b4"
   },
   "outputs": [
    {
     "name": "stdout",
     "output_type": "stream",
     "text": [
      "\n",
      "....................................................................................................100\n",
      "\n",
      "....................................................................................................200\n",
      "\n",
      "....................................................................................................300\n",
      "\n",
      "....................................................................................................400\n",
      "\n",
      "............."
     ]
    }
   ],
   "source": [
    "EPOCHS = 1500\n",
    "tic()\n",
    "history = model.fit(\n",
    "  X_train_scaled, y_train.drop(columns='field_goal_result'),\n",
    "  epochs=EPOCHS, verbose=0,\n",
    "  callbacks=[PrintDot()])\n",
    "toc(\"tensorflow training time\")\n",
    "plot_history(history)"
   ]
  },
  {
   "cell_type": "code",
   "execution_count": 0,
   "metadata": {
    "colab": {},
    "colab_type": "code",
    "id": "nPMZDbaNZTSJ"
   },
   "outputs": [],
   "source": [
    "score_report(\"test accuracy\",accuracy_score(model.predict_classes(X_test_scaled), y_test.field_goal_result))\n",
    "score_report(\"training accuracy\",accuracy_score(model.predict_classes(X_train_scaled),y_train.field_goal_result))\n",
    "print(sklearn.metrics.classification_report(model.predict_classes(X_test_scaled), y_test.field_goal_result))"
   ]
  },
  {
   "cell_type": "code",
   "execution_count": 0,
   "metadata": {
    "colab": {},
    "colab_type": "code",
    "id": "8BHI_Ly8BX01"
   },
   "outputs": [],
   "source": [
    "nn_cf = sklearn.metrics.confusion_matrix(model.predict_classes(X_test_scaled),y_test.field_goal_result)\n",
    "nn_cf = pd.DataFrame(nn_cf, ['good','miss','block'], ['good','miss','block'])\n",
    "f, ax = plt.subplots(figsize=(15,10))\n",
    "sns.heatmap(nn_cf,linewidths=1,annot=True,fmt = 'd')\n",
    "ax.set(ylabel = \"Prediction\", xlabel = \"True Value\")\n",
    "plt.show()"
   ]
  }
 ],
 "metadata": {
  "accelerator": "GPU",
  "colab": {
   "collapsed_sections": [],
   "name": "FieldGoals.ipynb",
   "provenance": [],
   "version": "0.3.2"
  },
  "kernelspec": {
   "display_name": "Python 3",
   "language": "python",
   "name": "python3"
  },
  "language_info": {
   "codemirror_mode": {
    "name": "ipython",
    "version": 3
   },
   "file_extension": ".py",
   "mimetype": "text/x-python",
   "name": "python",
   "nbconvert_exporter": "python",
   "pygments_lexer": "ipython3",
   "version": "3.7.1"
  }
 },
 "nbformat": 4,
 "nbformat_minor": 1
}
